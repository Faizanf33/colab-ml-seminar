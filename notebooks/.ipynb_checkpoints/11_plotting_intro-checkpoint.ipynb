{
 "cells": [
  {
   "cell_type": "markdown",
   "metadata": {
    "slideshow": {
     "slide_type": "slide"
    }
   },
   "source": [
    "# Plotting Stuff "
   ]
  },
  {
   "cell_type": "code",
   "execution_count": null,
   "metadata": {},
   "outputs": [],
   "source": [
    "import numpy as np\n",
    "X = np.linspace(0, 10, 40)\n",
    "print(X)"
   ]
  },
  {
   "cell_type": "code",
   "execution_count": null,
   "metadata": {
    "slideshow": {
     "slide_type": "slide"
    }
   },
   "outputs": [],
   "source": [
    "C = np.cos(X)\n",
    "print(C)"
   ]
  },
  {
   "cell_type": "code",
   "execution_count": null,
   "metadata": {
    "collapsed": true,
    "slideshow": {
     "slide_type": "slide"
    }
   },
   "outputs": [],
   "source": [
    "import matplotlib.pyplot as plt"
   ]
  },
  {
   "cell_type": "code",
   "execution_count": null,
   "metadata": {
    "collapsed": true,
    "slideshow": {
     "slide_type": "fragment"
    }
   },
   "outputs": [],
   "source": [
    "# only needed in jupyter notebook \n",
    "%matplotlib inline  "
   ]
  },
  {
   "cell_type": "code",
   "execution_count": null,
   "metadata": {
    "slideshow": {
     "slide_type": "slide"
    }
   },
   "outputs": [],
   "source": [
    "plt.plot(X, C)"
   ]
  },
  {
   "cell_type": "code",
   "execution_count": null,
   "metadata": {
    "slideshow": {
     "slide_type": "slide"
    }
   },
   "outputs": [],
   "source": [
    "S = np.sin(X)\n",
    "print(S)"
   ]
  },
  {
   "cell_type": "code",
   "execution_count": null,
   "metadata": {
    "slideshow": {
     "slide_type": "slide"
    }
   },
   "outputs": [],
   "source": [
    "plt.figure() \n",
    "plt.plot(X, C)\n",
    "plt.plot(X, S)"
   ]
  },
  {
   "cell_type": "code",
   "execution_count": null,
   "metadata": {
    "slideshow": {
     "slide_type": "slide"
    }
   },
   "outputs": [],
   "source": [
    "plt.figure() \n",
    "plt.plot(X, C, label='cos')\n",
    "plt.plot(X, S, label='sin')\n",
    "plt.xlabel('x')\n",
    "plt.ylabel('sin(x)/cos(x)')\n",
    "plt.legend()"
   ]
  },
  {
   "cell_type": "markdown",
   "metadata": {
    "slideshow": {
     "slide_type": "slide"
    }
   },
   "source": [
    "## Case study: Time taken by fib(n)"
   ]
  },
  {
   "cell_type": "code",
   "execution_count": null,
   "metadata": {
    "collapsed": true,
    "slideshow": {
     "slide_type": "slide"
    }
   },
   "outputs": [],
   "source": [
    "# our old fib function \n",
    "def fibslow(n): \n",
    "    if n == 0 or n == 1 :\n",
    "        return n \n",
    "    \n",
    "    else: \n",
    "        return fibslow(n-1) + fibslow(n-2)\n",
    "    \n",
    "def fibfast(n): \n",
    "    if n <= 1: return n \n",
    " \n",
    "    a, b = 0, 1 \n",
    "    \n",
    "    for i in range(1, n+1):\n",
    "        a, b = b, a + b\n",
    "        \n",
    "    return a"
   ]
  },
  {
   "cell_type": "code",
   "execution_count": null,
   "metadata": {
    "slideshow": {
     "slide_type": "slide"
    }
   },
   "outputs": [],
   "source": [
    "from_n, to_n = 1, 30\n",
    "\n",
    "X = range(from_n, to_n)\n",
    "print(X)"
   ]
  },
  {
   "cell_type": "code",
   "execution_count": null,
   "metadata": {
    "collapsed": true,
    "slideshow": {
     "slide_type": "slide"
    }
   },
   "outputs": [],
   "source": [
    "def time_function(fn, start, end): \n",
    "    from datetime import datetime\n",
    "    \n",
    "    times = [] \n",
    "    for i in range(start, end): \n",
    "        start_time = datetime.now() \n",
    "        \n",
    "        _ = fn(i)  # actual call to the function, don't care about value \n",
    "        \n",
    "        end_time = datetime.now() \n",
    "        time_taken = end_time - start_time   # returns a timedelta \n",
    "        time_taken = time_taken.microseconds\n",
    "        \n",
    "        times.append(time_taken)\n",
    "    \n",
    "    return times        "
   ]
  },
  {
   "cell_type": "code",
   "execution_count": null,
   "metadata": {
    "slideshow": {
     "slide_type": "slide"
    }
   },
   "outputs": [],
   "source": [
    "fibslow_times = time_function(fibslow, from_n, to_n)\n",
    "fibfast_times = time_function(fibfast, from_n, to_n)\n",
    "\n",
    "print(fibslow_times)\n",
    "print(fibfast_times)"
   ]
  },
  {
   "cell_type": "code",
   "execution_count": null,
   "metadata": {
    "slideshow": {
     "slide_type": "slide"
    }
   },
   "outputs": [],
   "source": [
    "plt.figure() \n",
    "plt.plot(X, fibslow_times, label='fibslow')\n",
    "plt.plot(X, fibfast_times, label='fibfast')\n",
    "plt.xlabel('n')\n",
    "plt.ylabel('time (microseconds)')\n",
    "plt.legend()"
   ]
  },
  {
   "cell_type": "code",
   "execution_count": null,
   "metadata": {
    "collapsed": true
   },
   "outputs": [],
   "source": []
  }
 ],
 "metadata": {
  "celltoolbar": "Slideshow",
  "kernelspec": {
   "display_name": "Python 3",
   "language": "python",
   "name": "python3"
  },
  "livereveal": {
   "transition": "fade"
  }
 },
 "nbformat": 4,
 "nbformat_minor": 2
}
